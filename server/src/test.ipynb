{
 "cells": [
  {
   "cell_type": "code",
   "execution_count": 1,
   "metadata": {},
   "outputs": [
    {
     "data": {
      "text/plain": [
       "True"
      ]
     },
     "execution_count": 1,
     "metadata": {},
     "output_type": "execute_result"
    }
   ],
   "source": [
    "import os\n",
    "from pathlib import Path\n",
    "\n",
    "import sqlalchemy\n",
    "from dotenv import load_dotenv\n",
    "from sqlalchemy import create_engine\n",
    "from sqlalchemy.orm import sessionmaker, declarative_base\n",
    "\n",
    "# root_dir = Path(__file__).resolve().parent\n",
    "root_dir = os.path.abspath('')\n",
    "env_path = os.path.join(str(root_dir), \"../.env\")\n",
    "\n",
    "load_dotenv(env_path)"
   ]
  },
  {
   "cell_type": "code",
   "execution_count": 2,
   "metadata": {},
   "outputs": [],
   "source": [
    "MYSQL_ROOT_PASSWORD = os.getenv(\"MYSQL_ROOT_PASSWORD\")\n",
    "MYSQL_DATABASE = os.getenv(\"MYSQL_DATABASE\")\n",
    "MYSQL_HOST = os.getenv(\"MYSQL_HOST\")\n",
    "MYSQL_USER = os.getenv(\"MYSQL_USER\")\n",
    "MYSQL_TCP_PORT = os.getenv(\"MYSQL_TCP_PORT\")\n",
    "\n",
    "\n",
    "def create_db(\n",
    "    user=MYSQL_USER,\n",
    "    password=MYSQL_ROOT_PASSWORD,\n",
    "    host=MYSQL_HOST,\n",
    "    port=MYSQL_TCP_PORT,\n",
    "    database=MYSQL_DATABASE,\n",
    "):\n",
    "    SQLALCHEMY_DATABASE_URL = \"mysql+pymysql://{}:{}@{}/{}\".format(\n",
    "        user, password, host, database\n",
    "    )\n",
    "    engine = create_engine(SQLALCHEMY_DATABASE_URL)\n",
    "\n",
    "    SessionLocal = sessionmaker(autocommit=False, autoflush=False, bind=engine)\n",
    "    Base = declarative_base()\n",
    "\n",
    "    return engine, SessionLocal, Base\n",
    "\n",
    "\n",
    "engine, SessionLocal, Base = create_db()"
   ]
  },
  {
   "cell_type": "code",
   "execution_count": 47,
   "metadata": {},
   "outputs": [
    {
     "data": {
      "text/plain": [
       "{'product_id': '0000000099999999',\n",
       " 'user_id': '1234567890',\n",
       " 'date_created': datetime.datetime(2021, 1, 1, 0, 0),\n",
       " 'name': 'Sneakers',\n",
       " 'price': Decimal('49.99'),\n",
       " 'rating': Decimal('4.5'),\n",
       " 'options': ['S', 'M', 'L', 'XL'],\n",
       " 'description': ['Size: 22.0 cm',\n",
       "  'Color: Core Black/Carbon/Alumina (JH9365)',\n",
       "  'Material: Synthetic leather',\n",
       "  'Country of Origin: Indonesia'],\n",
       " 'images': ['./../src/assets/images/products/1/image-product-1.jpg',\n",
       "  './../src/assets/images/products/1/image-product-2.jpg',\n",
       "  './../src/assets/images/products/1/image-product-3.jpg',\n",
       "  './../src/assets/images/products/1/image-product-4.jpg']}"
      ]
     },
     "execution_count": 47,
     "metadata": {},
     "output_type": "execute_result"
    }
   ],
   "source": [
    "import pandas as pd\n",
    "import json\n",
    "with engine.connect() as db:\n",
    "    query_string = sqlalchemy.text(\n",
    "        \"\"\"SELECT * FROM products\n",
    "        WHERE products.product_id = \"{}\";\"\"\".format(\"0000000099999999\")\n",
    "    )\n",
    "    fetched = dict(db.execute(query_string).fetchone()._mapping)\n",
    "    # jsonif = fetched.to_dict(orient='records')\n",
    "\n",
    "fetched.update(json.loads(fetched['options']))\n",
    "fetched.update(json.loads(fetched['description']))\n",
    "fetched.update(json.loads(fetched['images']))\n",
    "fetched"
   ]
  }
 ],
 "metadata": {
  "kernelspec": {
   "display_name": "server",
   "language": "python",
   "name": "python3"
  },
  "language_info": {
   "codemirror_mode": {
    "name": "ipython",
    "version": 3
   },
   "file_extension": ".py",
   "mimetype": "text/x-python",
   "name": "python",
   "nbconvert_exporter": "python",
   "pygments_lexer": "ipython3",
   "version": "3.10.16"
  }
 },
 "nbformat": 4,
 "nbformat_minor": 2
}
